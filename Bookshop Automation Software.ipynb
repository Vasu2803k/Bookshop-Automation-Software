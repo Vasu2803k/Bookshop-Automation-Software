{
 "cells": [
  {
   "cell_type": "markdown",
   "id": "63d2bf06",
   "metadata": {},
   "source": [
    "# Project-1\n",
    "Bookshop Automation Software\n",
    "Collaborative Project of 2 peer students from IIT Kharagpur.\n",
    "1- Katravath Vasu\n",
    "2- Tippagudisi Deepika Sravya"
   ]
  },
  {
   "cell_type": "code",
   "execution_count": 2,
   "id": "d3e8ea57",
   "metadata": {},
   "outputs": [
    {
     "name": "stdout",
     "output_type": "stream",
     "text": [
      "Hello Sravya\n"
     ]
    }
   ],
   "source": [
    "print(\"Hello Sravya\")"
   ]
  },
  {
   "cell_type": "code",
   "execution_count": null,
   "id": "9d344e3c",
   "metadata": {},
   "outputs": [],
   "source": []
  }
 ],
 "metadata": {
  "kernelspec": {
   "display_name": "Python 3 (ipykernel)",
   "language": "python",
   "name": "python3"
  },
  "language_info": {
   "codemirror_mode": {
    "name": "ipython",
    "version": 3
   },
   "file_extension": ".py",
   "mimetype": "text/x-python",
   "name": "python",
   "nbconvert_exporter": "python",
   "pygments_lexer": "ipython3",
   "version": "3.9.7"
  }
 },
 "nbformat": 4,
 "nbformat_minor": 5
}
