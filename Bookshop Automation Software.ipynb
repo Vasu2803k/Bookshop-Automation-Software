{
 "cells": [
  {
   "cell_type": "markdown",
   "id": "a8c34ea7",
   "metadata": {},
   "source": [
    "# Bookshop Automation software\n",
    "The collaborative project of 2 students from IIT Kharagpur. 1> Katravath Vasu 2> Tippagudisi Deepika Sravya\n"
   ]
  },
  {
   "cell_type": "code",
   "execution_count": null,
   "id": "a5aec7e9",
   "metadata": {},
   "outputs": [
    {
     "name": "stdout",
     "output_type": "stream",
     "text": [
      "BOOKSHOP AUTOMATION SYSTEM\n",
      "Welcome to the new version of Bookshop\n",
      ">Open or close\n"
     ]
    }
   ],
   "source": [
    "print(\"BOOKSHOP AUTOMATION SYSTEM\")\n",
    "def open_Bookshop():\n",
    "    print(\"Welcome to the new version of Bookshop :)\")\n",
    "    print(\">Open or close\")\n",
    "    is_type=False\n",
    "    while not is_type:\n",
    "        try:\n",
    "            open_close=(input(\">Type 'Yes' to open and 'No' to close: \").lower())\n",
    "            if(open_close==\"yes\"):\n",
    "                print(\">Let's get started\")\n",
    "                break\n",
    "            elif(open_close==\"no\"):\n",
    "                print(\">Thanks-Visit Again\")\n",
    "                exit()\n",
    "        except Exception:\n",
    "            print(\">Wrong!-Type/Input correctly\")  \n",
    "            is_type=False\n",
    "        else:\n",
    "            print(\">only choose 'Yes' or 'No'\")\n",
    "            is_type=False\n",
    "        \n",
    "open_Bookshop()            \n",
    "\n",
    "    "
   ]
  },
  {
   "cell_type": "code",
   "execution_count": null,
   "id": "b4d697fb",
   "metadata": {},
   "outputs": [],
   "source": []
  },
  {
   "cell_type": "code",
   "execution_count": null,
   "id": "2fddf1ac",
   "metadata": {},
   "outputs": [],
   "source": []
  }
 ],
 "metadata": {
  "kernelspec": {
   "display_name": "Python 3 (ipykernel)",
   "language": "python",
   "name": "python3"
  },
  "language_info": {
   "codemirror_mode": {
    "name": "ipython",
    "version": 3
   },
   "file_extension": ".py",
   "mimetype": "text/x-python",
   "name": "python",
   "nbconvert_exporter": "python",
   "pygments_lexer": "ipython3",
   "version": "3.9.7"
  }
 },
 "nbformat": 4,
 "nbformat_minor": 5
}
